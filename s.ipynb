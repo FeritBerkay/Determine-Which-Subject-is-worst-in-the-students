{
 "cells": [
  {
   "cell_type": "code",
   "execution_count": null,
   "id": "4f4c6012",
   "metadata": {},
   "outputs": [],
   "source": []
  },
  {
   "cell_type": "code",
   "execution_count": 20,
   "id": "485f6fa3",
   "metadata": {},
   "outputs": [
    {
     "name": "stdout",
     "output_type": "stream",
     "text": [
      "Soru 1:math\n",
      "Soru 2:science\n",
      "Soru 3:literature\n",
      "Soru 4:history\n",
      "Soru 5:computer science\n",
      "history\n"
     ]
    }
   ],
   "source": [
    "question1 = input(\"Soru 1:\")\n",
    "question2 = input(\"Soru 2:\")\n",
    "question3 = input(\"Soru 3:\")\n",
    "question4 = input(\"Soru 4:\")\n",
    "question5 = input(\"Soru 5:\")\n",
    "\n",
    "studentsNumber=20\n",
    "question1WhoDoneCorrect=5\n",
    "question2WhoDoneCorrect=7\n",
    "question3WhoDoneCorrect=8\n",
    "question4WhoDoneCorrect=15\n",
    "question5WhoDoneCorrect=2\n",
    "\n",
    "def calculator(question1, question2, question3, question4, question5, studentsNumber, question1WhoDoneCorrect, question2WhoDoneCorrect, question3WhoDoneCorrect, question4WhoDoneCorrect, question5WhoDoneCorrect):\n",
    "    if(studentsNumber-question1WhoDoneCorrect<10):\n",
    "        print(question1)\n",
    "    if(studentsNumber-question2WhoDoneCorrect<10):\n",
    "        print(question2)\n",
    "    if(studentsNumber-question3WhoDoneCorrect<10):\n",
    "        print(question3)\n",
    "    if(studentsNumber-question4WhoDoneCorrect<10):\n",
    "        print(question4)\n",
    "    if(studentsNumber-question5WhoDoneCorrect<10):\n",
    "        print(question5)\n",
    "    elif():\n",
    "        print(\"Ogrenciler tum sorulari dogru cevapladi\")\n",
    "calculator(question1, question2, question3, question4, question5, studentsNumber, question1WhoDoneCorrect, question2WhoDoneCorrect, question3WhoDoneCorrect, question4WhoDoneCorrect, question5WhoDoneCorrect)"
   ]
  }
 ],
 "metadata": {
  "kernelspec": {
   "display_name": "Python 3",
   "language": "python",
   "name": "python3"
  },
  "language_info": {
   "codemirror_mode": {
    "name": "ipython",
    "version": 3
   },
   "file_extension": ".py",
   "mimetype": "text/x-python",
   "name": "python",
   "nbconvert_exporter": "python",
   "pygments_lexer": "ipython3",
   "version": "3.8.8"
  }
 },
 "nbformat": 4,
 "nbformat_minor": 5
}
